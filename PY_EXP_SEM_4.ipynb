{
  "nbformat": 4,
  "nbformat_minor": 0,
  "metadata": {
    "colab": {
      "name": "PY EXP SEM 4.ipynb",
      "provenance": [],
      "toc_visible": true,
      "authorship_tag": "ABX9TyOdxlsjfMxzg05q8w5v2vEI",
      "include_colab_link": true
    },
    "kernelspec": {
      "name": "python3",
      "display_name": "Python 3"
    },
    "language_info": {
      "name": "python"
    }
  },
  "cells": [
    {
      "cell_type": "markdown",
      "metadata": {
        "id": "view-in-github",
        "colab_type": "text"
      },
      "source": [
        "<a href=\"https://colab.research.google.com/github/piush-terminalwitchcraft/-Rubix-22-3-Team-7/blob/master/PY_EXP_SEM_4.ipynb\" target=\"_parent\"><img src=\"https://colab.research.google.com/assets/colab-badge.svg\" alt=\"Open In Colab\"/></a>"
      ]
    },
    {
      "cell_type": "markdown",
      "source": [
        "# Experiment 1\n"
      ],
      "metadata": {
        "id": "So-p2zM4w4cU"
      }
    },
    {
      "cell_type": "markdown",
      "source": [
        "## Q.1"
      ],
      "metadata": {
        "id": "IKOBCZpcErNE"
      }
    },
    {
      "cell_type": "code",
      "source": [
        "poem = '''\n",
        "Twinkle, twinkle, little star\n",
        "\"How I wonder what you are\"\n",
        "Up above the world so high\n",
        "Like a diamond in the sky\n",
        "Twinkle, twinkle, little star\n",
        "How I wonder what you are\n",
        "Twinkle, 'twinkle', little star\n",
        "How I wonder what you are\n",
        "Up above the world so high\n",
        "Like a diamond in the sky\n",
        "Twinkle, twinkle, little star\n",
        "How I wonder what you are\n",
        "'''\n",
        "\n",
        "print(poem)"
      ],
      "metadata": {
        "colab": {
          "base_uri": "https://localhost:8080/"
        },
        "id": "dgwkUE2zEsMZ",
        "outputId": "134694d6-283f-4777-c628-f253808dc608"
      },
      "execution_count": null,
      "outputs": [
        {
          "output_type": "stream",
          "name": "stdout",
          "text": [
            "\n",
            "Twinkle, twinkle, little star\n",
            "\"How I wonder what you are\"\n",
            "Up above the world so high\n",
            "Like a diamond in the sky\n",
            "Twinkle, twinkle, little star\n",
            "How I wonder what you are\n",
            "Twinkle, 'twinkle', little star\n",
            "How I wonder what you are\n",
            "Up above the world so high\n",
            "Like a diamond in the sky\n",
            "Twinkle, twinkle, little star\n",
            "How I wonder what you are\n",
            "\n"
          ]
        }
      ]
    },
    {
      "cell_type": "markdown",
      "source": [
        "## Q.2"
      ],
      "metadata": {
        "id": "X4_n3tELEs3r"
      }
    },
    {
      "cell_type": "code",
      "source": [
        "name = \"Piush Paul\"\n",
        "sem = 4\n",
        "print(\"Hello I am {} studying in sem %d\".format(name)%(sem))"
      ],
      "metadata": {
        "colab": {
          "base_uri": "https://localhost:8080/"
        },
        "id": "oSS80UD8EtqR",
        "outputId": "346536c0-2cc9-4d96-a482-12e65f69ef37"
      },
      "execution_count": null,
      "outputs": [
        {
          "output_type": "stream",
          "name": "stdout",
          "text": [
            "Hello I am Piush Paul studying in sem 4\n"
          ]
        }
      ]
    },
    {
      "cell_type": "markdown",
      "source": [
        "## Q.3"
      ],
      "metadata": {
        "id": "fP3DVmoaEuco"
      }
    },
    {
      "cell_type": "code",
      "source": [
        "year = int(input(\"Enter the year- \"))\n",
        "flag = 0\n",
        "if year%4==0:\n",
        "  if year%100 != 0:\n",
        "    flag = 0\n",
        "  elif year%400 !=0 and year%100 == 0:\n",
        "    flag = 1\n",
        "  else:\n",
        "    flag = 0\n",
        "else:\n",
        "  flag = 1\n",
        "\n",
        "print(\"%d is {} leap year\".format(\"a\" if flag == 0 else \"not a\")%year)"
      ],
      "metadata": {
        "colab": {
          "base_uri": "https://localhost:8080/"
        },
        "id": "bmvN5VffEvQp",
        "outputId": "b26eef7e-20fd-40b4-c2ea-70fb7234e585"
      },
      "execution_count": null,
      "outputs": [
        {
          "output_type": "stream",
          "name": "stdout",
          "text": [
            "Enter the year- 2020\n",
            "2020 is a leap year\n"
          ]
        }
      ]
    },
    {
      "cell_type": "markdown",
      "source": [
        "## Q.4"
      ],
      "metadata": {
        "id": "mviUKavbEvwW"
      }
    },
    {
      "cell_type": "code",
      "source": [
        "for i in range(1,1000):\n",
        "  num = int(i)\n",
        "  order = 0 \n",
        "  if num < 10 : order = 1\n",
        "  elif num < 100 : order = 2\n",
        "  else : order = 3\n",
        "  \n",
        "  tmpsum = 0\n",
        "  while num > 0:\n",
        "    tmpsum += (num%10)**order\n",
        "    num//=10\n",
        "\n",
        "  if tmpsum == i : \n",
        "    print(\"%d is an armstrong number\"%i)"
      ],
      "metadata": {
        "colab": {
          "base_uri": "https://localhost:8080/"
        },
        "id": "V4YLnkvNEwcG",
        "outputId": "311040c6-8fe4-4424-e126-13fa44049878"
      },
      "execution_count": null,
      "outputs": [
        {
          "output_type": "stream",
          "name": "stdout",
          "text": [
            "1 is an armstrong number\n",
            "2 is an armstrong number\n",
            "3 is an armstrong number\n",
            "4 is an armstrong number\n",
            "5 is an armstrong number\n",
            "6 is an armstrong number\n",
            "7 is an armstrong number\n",
            "8 is an armstrong number\n",
            "9 is an armstrong number\n",
            "153 is an armstrong number\n",
            "370 is an armstrong number\n",
            "371 is an armstrong number\n",
            "407 is an armstrong number\n"
          ]
        }
      ]
    },
    {
      "cell_type": "markdown",
      "source": [
        "## Q.5"
      ],
      "metadata": {
        "id": "HeyPUcpWEw46"
      }
    },
    {
      "cell_type": "code",
      "source": [
        "a = 0\n",
        "b = 1\n",
        "num = int(input(\"Enter the number of terms of fibonacci sequence - \"))\n",
        "print(\"Fiboacci series of %d terms is \"%num)\n",
        "for i in range(1,num+1):\n",
        "  if i==1 : print(0,end = \" \")\n",
        "  elif i==2 : print(1,end = \" \")\n",
        "  else : \n",
        "    c = a + b\n",
        "    a = b\n",
        "    b = c\n",
        "    print(c,end = \" \")\n"
      ],
      "metadata": {
        "colab": {
          "base_uri": "https://localhost:8080/"
        },
        "id": "h0OfYHrLExOt",
        "outputId": "c54701df-e1ac-4b91-f4b6-7e39d408915e"
      },
      "execution_count": null,
      "outputs": [
        {
          "output_type": "stream",
          "name": "stdout",
          "text": [
            "Enter the number of terms of fibonacci sequence - 11\n",
            "Fiboacci series of 11 terms is \n",
            "0 1 1 2 3 5 8 13 21 34 55 "
          ]
        }
      ]
    },
    {
      "cell_type": "markdown",
      "source": [
        "## Q.6"
      ],
      "metadata": {
        "id": "5ksIVpaZEz_F"
      }
    },
    {
      "cell_type": "code",
      "source": [
        "#Pattern 1\n",
        "\n",
        "lines = int(input(\"Enter the number of lines - \"))\n",
        "ch = ord('A')\n",
        "for i in range(1,lines+1):\n",
        "  for j in range(0,i):\n",
        "    print(chr(ch),end = \" \")\n",
        "  print(\" \")\n",
        "  ch = ch + 1"
      ],
      "metadata": {
        "colab": {
          "base_uri": "https://localhost:8080/"
        },
        "id": "p-BqlUn2E0ji",
        "outputId": "905e74a7-0991-461e-b4ec-f531f3cbd6d7"
      },
      "execution_count": null,
      "outputs": [
        {
          "output_type": "stream",
          "name": "stdout",
          "text": [
            "Enter the number of lines - 5\n",
            "A  \n",
            "B B  \n",
            "C C C  \n",
            "D D D D  \n",
            "E E E E E  \n"
          ]
        }
      ]
    },
    {
      "cell_type": "code",
      "source": [
        "#Pattern 2\n",
        "lines = int(input(\"Enter the number of lines - \"))\n",
        "for i in range(0,lines):\n",
        "  for j in range(0,i):\n",
        "    print(\" \",end = \"\")\n",
        "  for j in range(i,lines):\n",
        "    print(\"*\",end = \"\")\n",
        "  print(\" \")  \n"
      ],
      "metadata": {
        "colab": {
          "base_uri": "https://localhost:8080/"
        },
        "id": "Dt4f3WbTI23R",
        "outputId": "56063924-6c18-4386-b4bc-0ae201d5ac1d"
      },
      "execution_count": null,
      "outputs": [
        {
          "output_type": "stream",
          "name": "stdout",
          "text": [
            "Enter the number of lines - 3\n",
            "*** \n",
            " ** \n",
            "  * \n"
          ]
        }
      ]
    },
    {
      "cell_type": "code",
      "source": [
        "#Pattern 3\n",
        "lines = int(input(\"Enter the number of lines - \"))\n",
        "for i in range(0,lines+1):\n",
        "  for j in range(0,lines - i):\n",
        "    print(\" \",end = \"\")\n",
        "  for j in range(1,i+1):\n",
        "    print(j,end = \"\")   \n",
        "  for j in range(2,i+1):\n",
        "    print(i + 1 - j,end = \"\") \n",
        "\n",
        "  print(\" \")   \n"
      ],
      "metadata": {
        "colab": {
          "base_uri": "https://localhost:8080/"
        },
        "id": "Xip2PRCFI5IZ",
        "outputId": "95d96efb-c6c5-431b-e3ae-481e5b23843f"
      },
      "execution_count": null,
      "outputs": [
        {
          "output_type": "stream",
          "name": "stdout",
          "text": [
            "Enter the number of lines - 6\n",
            "       \n",
            "     1 \n",
            "    121 \n",
            "   12321 \n",
            "  1234321 \n",
            " 123454321 \n",
            "12345654321 \n"
          ]
        }
      ]
    },
    {
      "cell_type": "code",
      "source": [
        "#Pattern 4\n",
        "lines = int(input(\"Enter the number of lines - \"))\n",
        "for i in range(0,lines+1):\n",
        "  for j in range(0,lines - i):\n",
        "    print(\" \",end = \"\")\n",
        "  for j in range(1,i+1):\n",
        "    print(\"* \",end = \"\") \n",
        "  print()   \n",
        "  "
      ],
      "metadata": {
        "colab": {
          "base_uri": "https://localhost:8080/"
        },
        "id": "smYnfGsnI-1o",
        "outputId": "71aa4406-9a7a-485f-bc0e-0f10ba5816d3"
      },
      "execution_count": null,
      "outputs": [
        {
          "output_type": "stream",
          "name": "stdout",
          "text": [
            "Enter the number of lines - 5\n",
            "     \n",
            "    * \n",
            "   * * \n",
            "  * * * \n",
            " * * * * \n",
            "* * * * * \n"
          ]
        }
      ]
    },
    {
      "cell_type": "markdown",
      "source": [
        ""
      ],
      "metadata": {
        "id": "-6ApcvFvKqxG"
      }
    },
    {
      "cell_type": "markdown",
      "source": [
        "# Experiment 2"
      ],
      "metadata": {
        "id": "YYMKNpF7Um-X"
      }
    },
    {
      "cell_type": "markdown",
      "source": [
        "## Q.1\n"
      ],
      "metadata": {
        "id": "BiREbACXUsz_"
      }
    },
    {
      "cell_type": "code",
      "source": [
        "from array import *\n",
        "\n",
        "lists = list(map(int,input(\"Enter the no of elements \").split()))\n",
        "array1 = array('i',lists)\n",
        "\n",
        "for i in array1:\n",
        "  print(i ,end = \" \")\n",
        "\n",
        "print()\n",
        "value = int(input(\"Enter the value to append \"))\n",
        "array1.append(value)\n",
        "\n",
        "for i in array1:\n",
        "  print(i ,end = \" \")\n",
        "\n",
        "print()\n",
        "\n",
        "print(\"Array in reversed order is - \")\n",
        "for i in array1[::-1]:\n",
        "  print(i,end = \" \")\n",
        "\n",
        "print()  \n",
        "\n",
        "print(\"%d is the length of array in bytes\" %(array1.itemsize))\n",
        "\n",
        "lists2 = list(map(int,input(\"Enter another array to be appended\").split()))\n",
        "array2 = array('i',lists2)\n",
        "\n",
        "for i in array2 :\n",
        "  array1.append(i)\n",
        "\n",
        "print(\"Appended array is -\")\n",
        "for i in array1:\n",
        "  print(i,end = \" \")  \n",
        "\n",
        "index = int(input(\"Enter the index to be deleted \"))\n",
        "if index < len(array1):\n",
        "  array1.pop(index)\n",
        "else : \n",
        "  print(\"Out of range\")\n",
        "\n",
        "print(\"New array is - \")\n",
        "for i in array1:\n",
        "  print(i,end =\" \")\n",
        "\n",
        "index = int(input(\"Enter the index to be inserted \")) \n",
        "value = int(input(\"Enter the element to be deleted \"))\n",
        "\n",
        "if index <= len(array1) :\n",
        "  array1.insert(index,value)\n",
        "else :\n",
        "  print(\"Out of range\")\n",
        "\n",
        "print(\"New array is - \")\n",
        "for i in array1:\n",
        "  print(i,end =\" \")  \n"
      ],
      "metadata": {
        "id": "UgGoMWoNUtD_",
        "colab": {
          "base_uri": "https://localhost:8080/"
        },
        "outputId": "aacec5d8-8903-4e63-c63a-de0c7eaba65c"
      },
      "execution_count": null,
      "outputs": [
        {
          "output_type": "stream",
          "name": "stdout",
          "text": [
            "Enter the no of elements 2\n",
            "2 \n",
            "Enter the value to append 1\n",
            "2 1 \n",
            "Array in reversed order is - \n",
            "1 2 \n",
            "4 is the length of array in bytes\n",
            "Enter another array to be appended1\n",
            "Appended array is -\n",
            "2 1 1 Enter the index to be deleted 1\n",
            "New array is - \n",
            "2 1 Enter the index to be inserted 1\n",
            "Enter the element to be deleted 1\n",
            "New array is - \n",
            "2 1 1 "
          ]
        }
      ]
    },
    {
      "cell_type": "markdown",
      "source": [
        "## Q.2"
      ],
      "metadata": {
        "id": "1MEY5sY530Jq"
      }
    },
    {
      "cell_type": "code",
      "source": [
        "from array import *\n",
        "\n",
        "lists = list(map(int,input(\"Enter the no of elements\").split()))\n",
        "arr = array('i',lists)\n",
        "newarr = array('i',[])\n",
        "for i in arr:\n",
        "  flg = 0\n",
        "  for j in range(2,i):\n",
        "    if i%j==0 : flg = 1\n",
        "\n",
        "  if flg == 1: newarr.append(i)\n",
        "\n",
        "\n",
        "for i in newarr:\n",
        "  print(i,end = \" \")"
      ],
      "metadata": {
        "colab": {
          "base_uri": "https://localhost:8080/"
        },
        "id": "7xqvkd9k32S4",
        "outputId": "e407028f-e508-4033-b53f-b0ef4f0fb3c5"
      },
      "execution_count": null,
      "outputs": [
        {
          "name": "stdout",
          "output_type": "stream",
          "text": [
            "Enter the no of elements11\n"
          ]
        }
      ]
    },
    {
      "cell_type": "markdown",
      "source": [
        "## Q.3"
      ],
      "metadata": {
        "id": "7fHvMJYe5ucv"
      }
    },
    {
      "cell_type": "code",
      "source": [
        "string = str(input(\"Enter the string - \"))\n",
        "flg = 0\n",
        "char = string[0]\n",
        "for i in range(1,len(string)):\n",
        "  if string[i] == char:\n",
        "    left = string[0:i]\n",
        "    right = string[i+1:len(string)]\n",
        "    string = left + '@' + right\n",
        "      \n",
        "\n",
        "\n",
        "print(string)      "
      ],
      "metadata": {
        "colab": {
          "base_uri": "https://localhost:8080/"
        },
        "id": "GfW2o1iZ5vyF",
        "outputId": "2b7545f6-7497-493c-f06e-7618529c784e"
      },
      "execution_count": null,
      "outputs": [
        {
          "output_type": "stream",
          "name": "stdout",
          "text": [
            "Enter the string - 123\n",
            "123\n"
          ]
        }
      ]
    },
    {
      "cell_type": "markdown",
      "source": [
        "## Q.4"
      ],
      "metadata": {
        "id": "DTU3mgIF-PB4"
      }
    },
    {
      "cell_type": "code",
      "source": [
        "string = str(input(\"Enter the group of strings -\"))\n",
        "lists = string.split(' ')\n",
        "print(lists)\n",
        "lists.sort()\n",
        "print(\"Array of strings in sorted order is -\")\n",
        "for i in lists:\n",
        "  print(i, end = \" \")\n",
        "print()\n",
        "string2 = str(input('Enter the string to check palindrome- '))\n",
        "string2rev = ''.join(reversed(string2))\n",
        "\n",
        "if string2 == string2rev:\n",
        "  print('{} is a palindrome'.format(string2))\n",
        "else :\n",
        "  print('{} is not a palindrome'.format(string2))"
      ],
      "metadata": {
        "colab": {
          "base_uri": "https://localhost:8080/"
        },
        "id": "1nk8kp54-Qpq",
        "outputId": "62edd381-5a0e-4b0b-8d3c-2238687cacf2"
      },
      "execution_count": null,
      "outputs": [
        {
          "output_type": "stream",
          "name": "stdout",
          "text": [
            "Enter the group of strings -1224\n",
            "['1224']\n",
            "Array of strings in sorted order is -\n",
            "1224 \n",
            "Enter the string to check palindrome- adda\n",
            "adda is a palindrome\n"
          ]
        }
      ]
    }
  ]
}